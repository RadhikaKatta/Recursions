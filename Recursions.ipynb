{
 "cells": [
  {
   "cell_type": "code",
   "execution_count": 32,
   "id": "33813318-1cd2-4a1b-bd94-43813e6cdee3",
   "metadata": {},
   "outputs": [
    {
     "name": "stdin",
     "output_type": "stream",
     "text": [
      "enter a number: 4\n"
     ]
    },
    {
     "name": "stdout",
     "output_type": "stream",
     "text": [
      "factorial of 4 is 24\n"
     ]
    }
   ],
   "source": [
    "#factorial program                                                                               (15/7/2025)\n",
    "\n",
    "fact=1\n",
    "def factorial(num):#cally\n",
    "    global fact\n",
    "    fact=1\n",
    "    for i in range (1,num+1):\n",
    "        fact *=i\n",
    "    return fact\n",
    "num=int(input(\"enter a number:\"))\n",
    "if num<0:\n",
    "    print(\"cannot derive factor for negative numbers\")\n",
    "else:\n",
    "    factorial(num) #caller\n",
    "    print(f\"factorial of {num} is\",fact)\n",
    "    "
   ]
  },
  {
   "cell_type": "code",
   "execution_count": 40,
   "id": "3b2ede08-6f0c-4d53-a73d-eebf6e599a77",
   "metadata": {},
   "outputs": [
    {
     "name": "stdin",
     "output_type": "stream",
     "text": [
      "enter the value 5\n"
     ]
    },
    {
     "name": "stdout",
     "output_type": "stream",
     "text": [
      "120\n"
     ]
    }
   ],
   "source": [
    "#factorial using recursive fun't\n",
    "def factorial(n):\n",
    "    if n==0 or n==1:\n",
    "        return 1\n",
    "    return n*factorial(n-1)\n",
    "num=int(input(\"enter the value\"))\n",
    "value=factorial(num)\n",
    "print(value)"
   ]
  },
  {
   "cell_type": "code",
   "execution_count": 64,
   "id": "3a8ecda6-19ba-4e9c-bb4c-cc0f3e6882aa",
   "metadata": {},
   "outputs": [
    {
     "name": "stdin",
     "output_type": "stream",
     "text": [
      "enter n: 5\n"
     ]
    },
    {
     "name": "stdout",
     "output_type": "stream",
     "text": [
      "sum of first 5 natural numbers is 15\n"
     ]
    }
   ],
   "source": [
    "#sum n natural numbers\n",
    "def nsum(n):\n",
    "    if n==0:\n",
    "        return 0\n",
    "    return n+nsum(n-1)\n",
    "num=int(input(\"enter n:\"))\n",
    "print(\"sum of first\",num,\"natural numbers is\",nsum(num))\n",
    "\n"
   ]
  },
  {
   "cell_type": "code",
   "execution_count": 72,
   "id": "31d7973d-d310-44e9-ad2d-41f046b8ff65",
   "metadata": {},
   "outputs": [
    {
     "name": "stdin",
     "output_type": "stream",
     "text": [
      "enter a word hi\n"
     ]
    },
    {
     "name": "stdout",
     "output_type": "stream",
     "text": [
      "ih\n"
     ]
    }
   ],
   "source": [
    "##access strings in recursive fun't\n",
    "def rstring(text):\n",
    "    if len(text)==0:\n",
    "        return text\n",
    "    return rstring(text[1:])+text[0]                           #s=text---print(s[1:]) then it print ext as o/p\n",
    "text=input(\"enter a word\")\n",
    "print(rstring(text))"
   ]
  },
  {
   "cell_type": "code",
   "execution_count": 80,
   "id": "af7e544d-efa2-46b9-8295-1f91725b69bc",
   "metadata": {},
   "outputs": [
    {
     "name": "stdin",
     "output_type": "stream",
     "text": [
      "enter a word hi\n"
     ]
    },
    {
     "name": "stdout",
     "output_type": "stream",
     "text": [
      "ih\n"
     ]
    }
   ],
   "source": [
    "##access strings in recursive fun't\n",
    "def rstring(s):\n",
    "    if len(s)==0:\n",
    "        return s\n",
    "    return rstring(s[1:])+s[0]                         \n",
    "text=input(\"enter a word\")\n",
    "print(rstring(text))"
   ]
  },
  {
   "cell_type": "code",
   "execution_count": 76,
   "id": "014db7d9-21af-4f2f-b9ee-879c1975757a",
   "metadata": {},
   "outputs": [
    {
     "name": "stdout",
     "output_type": "stream",
     "text": [
      "ello\n"
     ]
    }
   ],
   "source": [
    "s=\"hello\"\n",
    "print(s[1:])"
   ]
  },
  {
   "cell_type": "code",
   "execution_count": 114,
   "id": "9080d25d-746b-40a2-bf07-e789ae1b91ff",
   "metadata": {},
   "outputs": [
    {
     "name": "stdout",
     "output_type": "stream",
     "text": [
      "1\n",
      "3\n"
     ]
    }
   ],
   "source": [
    "#positional arg--------sym(*arg)\n",
    "def sumnum(*args):\n",
    "    print(args[0])\n",
    "    return sum(args)\n",
    "print(sumnum(1,2))"
   ]
  },
  {
   "cell_type": "code",
   "execution_count": 126,
   "id": "0d9a0f6d-2a47-45ce-a104-4d173481fa3b",
   "metadata": {},
   "outputs": [
    {
     "name": "stdout",
     "output_type": "stream",
     "text": [
      "name:vijay\n",
      "age:12\n",
      "cgpa:9.5\n"
     ]
    }
   ],
   "source": [
    "#keyword args-------------sym(**kwargs)\n",
    "def info(**kwargs):\n",
    "    for key,value in kwargs.items():\n",
    "        print(f\"{key}:{value}\")\n",
    "info(name='vijay',age=12,cgpa=9.5)"
   ]
  },
  {
   "cell_type": "code",
   "execution_count": 142,
   "id": "c770536d-cf46-4302-b9a7-9de6fcec6edd",
   "metadata": {},
   "outputs": [
    {
     "name": "stdout",
     "output_type": "stream",
     "text": [
      "name:vijay\n",
      "age:12\n",
      "cgpa:9.5\n",
      "name:vijay\n"
     ]
    }
   ],
   "source": [
    "#to print name only\n",
    "def info(**kwargs):\n",
    "    for key,value in kwargs.items():\n",
    "         print(f\"{key}:{value}\")\n",
    "    name=kwargs[\"name\"]\n",
    "    print(f\"name:{name}\")  \n",
    "info(name='vijay',age=12,cgpa=9.5)"
   ]
  },
  {
   "cell_type": "code",
   "execution_count": 144,
   "id": "4bb17dde-fe1f-4786-8d27-da7e6f281444",
   "metadata": {},
   "outputs": [
    {
     "name": "stdout",
     "output_type": "stream",
     "text": [
      "keys: dict_keys(['name', 'age', 'cgpa'])\n"
     ]
    }
   ],
   "source": [
    "#to define keys\n",
    "def info(**kwargs):\n",
    "    print(\"keys:\",kwargs.keys())\n",
    "info(name='vijay',age=11,cgpa=9.0)"
   ]
  },
  {
   "cell_type": "code",
   "execution_count": 162,
   "id": "d76f3ead-f2c7-4111-a668-f85ac765192d",
   "metadata": {},
   "outputs": [
    {
     "name": "stdout",
     "output_type": "stream",
     "text": [
      "values: dict_values(['vijay', 11, 9.0])\n"
     ]
    }
   ],
   "source": [
    "#to define values\n",
    "def info(**kwargs):\n",
    "    print(\"values:\",kwargs.values())\n",
    "info(name='vijay',age=11,cgpa=9.0)"
   ]
  },
  {
   "cell_type": "code",
   "execution_count": 160,
   "id": "a1491729-44c2-4ebd-972b-48477bcf45da",
   "metadata": {},
   "outputs": [
    {
     "name": "stdout",
     "output_type": "stream",
     "text": [
      "name\n",
      "age\n",
      "cgpa\n"
     ]
    }
   ],
   "source": [
    "#by using for loop to print vbertically\n",
    "def info(**kwargs):\n",
    "    for i in kwargs.keys():\n",
    "        print(i)\n",
    "info(name='vijay',age=11,cgpa=9.0)"
   ]
  },
  {
   "cell_type": "code",
   "execution_count": null,
   "id": "ff9ddd8f-4699-4466-bc50-3a80ab96e74d",
   "metadata": {},
   "outputs": [],
   "source": []
  }
 ],
 "metadata": {
  "kernelspec": {
   "display_name": "Python 3 (ipykernel)",
   "language": "python",
   "name": "python3"
  },
  "language_info": {
   "codemirror_mode": {
    "name": "ipython",
    "version": 3
   },
   "file_extension": ".py",
   "mimetype": "text/x-python",
   "name": "python",
   "nbconvert_exporter": "python",
   "pygments_lexer": "ipython3",
   "version": "3.12.7"
  }
 },
 "nbformat": 4,
 "nbformat_minor": 5
}
